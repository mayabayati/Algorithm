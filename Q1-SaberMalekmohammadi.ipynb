{
 "cells": [
  {
   "cell_type": "code",
   "execution_count": 2,
   "metadata": {},
   "outputs": [],
   "source": [
    "import numpy as np\n",
    "from collections import Counter, defaultdict\n",
    "import pickle"
   ]
  },
  {
   "cell_type": "code",
   "execution_count": 47,
   "metadata": {},
   "outputs": [],
   "source": [
    "def save(model, path):\n",
    "  pickle.dump(model, open(path, 'wb'))\n",
    "\n",
    "def load(path):\n",
    "  model = pickle.load(open(path, 'rb'))\n",
    "  return model"
   ]
  },
  {
   "cell_type": "code",
   "execution_count": 10,
   "metadata": {},
   "outputs": [],
   "source": [
    "def generate_data():\n",
    "    train_data = np.asarray(((1,0,1,1),(1,1,0,0),(1,0,2,1),(0,1,1,1),(0,0,0,0),(0,1,2,1),(0,1,2,0),(1,1,1,1)));\n",
    "    train_labels = np.asarray((0,1,1,1,0,1,0,1))\n",
    "    test_data = np.asarray((1,0,1,0))\n",
    "    return train_data, train_labels, test_data"
   ]
  },
  {
   "cell_type": "code",
   "execution_count": 43,
   "metadata": {},
   "outputs": [],
   "source": [
    "def findprob(list):\n",
    "    len_list = len(list)\n",
    "    p = dict(Counter(list))\n",
    "    for key in p.keys():\n",
    "        p[key] = p[key] / float(len_list)\n",
    "    return p"
   ]
  },
  {
   "cell_type": "code",
   "execution_count": 38,
   "metadata": {},
   "outputs": [],
   "source": [
    "def train(training, outcome):\n",
    "    bayes_class     = np.unique(outcome)\n",
    "    rows, cols      = np.shape(training)\n",
    "    model = {}\n",
    "    for i in bayes_class:\n",
    "        model[i] = defaultdict(list)\n",
    "  \n",
    "    prior_probs = findprob(outcome)\n",
    "  \n",
    "    for i in bayes_class:\n",
    "        row_indices = np.where(outcome == i)[0]\n",
    "        subset      = training[row_indices, :]\n",
    "        r, c        = np.shape(subset)\n",
    "        for j in range(0,c):\n",
    "            model[i][j] += list(subset[:,j])\n",
    "  \n",
    "    for i in bayes_class:\n",
    "        for j in range(0,cols):\n",
    "             model[i][j] = findprob(model[i][j])\n",
    "    return bayes_class, prior_probs, model]"
   ]
  },
  {
   "cell_type": "code",
   "execution_count": 44,
   "metadata": {},
   "outputs": [],
   "source": [
    "def test(bayes_class, test, pout, model):\n",
    "    results = {}\n",
    "    for ci in bayes_class:\n",
    "         class_p = pout[ci]\n",
    "         for i in range(0,len(test)):\n",
    "             relative_values = model[ci][i]\n",
    "             if test[i] in relative_values.keys():\n",
    "                 class_p *= relative_values[test[i]]\n",
    "             else:\n",
    "                 class_p *= 0\n",
    "             results[ci] = class_p\n",
    "    print(results)"
   ]
  },
  {
   "cell_type": "code",
   "execution_count": 45,
   "metadata": {},
   "outputs": [],
   "source": [
    "def demo():\n",
    "    training, outcome, new_sample = generate_data()\n",
    "    bayes_class, pout, model = train(training, outcome)\n",
    "    test(bayes_class, new_sample, pout, model)\n",
    "    "
   ]
  },
  {
   "cell_type": "code",
   "execution_count": 46,
   "metadata": {},
   "outputs": [
    {
     "name": "stdout",
     "output_type": "stream",
     "text": [
      "{0: 0.018518518518518517, 1: 0.006000000000000002}\n"
     ]
    }
   ],
   "source": [
    "demo()"
   ]
  },
  {
   "cell_type": "code",
   "execution_count": null,
   "metadata": {},
   "outputs": [],
   "source": []
  }
 ],
 "metadata": {
  "kernelspec": {
   "display_name": "Python 3",
   "language": "python",
   "name": "python3"
  },
  "language_info": {
   "codemirror_mode": {
    "name": "ipython",
    "version": 3
   },
   "file_extension": ".py",
   "mimetype": "text/x-python",
   "name": "python",
   "nbconvert_exporter": "python",
   "pygments_lexer": "ipython3",
   "version": "3.6.5"
  }
 },
 "nbformat": 4,
 "nbformat_minor": 2
}
