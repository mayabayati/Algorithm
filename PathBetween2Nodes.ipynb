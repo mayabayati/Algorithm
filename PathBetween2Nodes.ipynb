{
 "cells": [
  {
   "cell_type": "markdown",
   "metadata": {},
   "source": [
    "The following algorithm uses BFS to find out whether the there is a path between between two given nodes in a graph and if such a path exists it prints out the complete path. "
   ]
  },
  {
   "cell_type": "code",
   "execution_count": 1,
   "metadata": {},
   "outputs": [],
   "source": [
    "from collections import defaultdict"
   ]
  },
  {
   "cell_type": "code",
   "execution_count": 60,
   "metadata": {},
   "outputs": [],
   "source": [
    "class Graph:\n",
    "    def __init__(self, size):\n",
    "        self.nodes = size\n",
    "        self.edges = defaultdict(list)\n",
    "        \n",
    "    def addedge(self, u, v):\n",
    "        self.edges[u].append(v)\n",
    "        \n",
    "    def RouteNodesBFS(self,start,end):\n",
    "        visited = [False]*(self.nodes) # Keeping track of visited nodes\n",
    "        parent = [0]*(self.nodes)\n",
    "        q = [] # Queue for BFS\n",
    "        q.append(start)\n",
    "        visited[start] = True\n",
    "        parent[start]= -1 # First node's parent is -1\n",
    "        \n",
    "        while q:\n",
    "            curr = q.pop(0)\n",
    "            \n",
    "            if curr == end: # we found a path\n",
    "                path = []\n",
    "                while parent[curr] != -1:\n",
    "                    path.append(curr)\n",
    "                    curr = parent[curr]\n",
    "                path.append(start)\n",
    "                \n",
    "                print(list(reversed(path)))\n",
    "                return True\n",
    "            \n",
    "            else:\n",
    "                for child in self.edges[curr]:\n",
    "                    #extent the search to the children of current node\n",
    "                    if visited[child] == False: \n",
    "                        parent[child] = curr \n",
    "                        q.append(child)\n",
    "                        visited[child] = True\n",
    "        return False"
   ]
  },
  {
   "cell_type": "code",
   "execution_count": 61,
   "metadata": {},
   "outputs": [],
   "source": [
    "graph = Graph(4)\n",
    "graph.addedge(0, 1) \n",
    "graph.addedge(0, 2) \n",
    "graph.addedge(1, 2) \n",
    "graph.addedge(2, 0) \n",
    "graph.addedge(2, 3) \n",
    "graph.addedge(3, 3) "
   ]
  },
  {
   "cell_type": "code",
   "execution_count": 62,
   "metadata": {},
   "outputs": [
    {
     "name": "stdout",
     "output_type": "stream",
     "text": [
      "[1, 2, 3]\n"
     ]
    },
    {
     "data": {
      "text/plain": [
       "True"
      ]
     },
     "execution_count": 62,
     "metadata": {},
     "output_type": "execute_result"
    }
   ],
   "source": [
    "graph.RouteNodesBFS(1,3)"
   ]
  },
  {
   "cell_type": "code",
   "execution_count": 63,
   "metadata": {},
   "outputs": [
    {
     "data": {
      "text/plain": [
       "False"
      ]
     },
     "execution_count": 63,
     "metadata": {},
     "output_type": "execute_result"
    }
   ],
   "source": [
    "graph.RouteNodesBFS(3,1)"
   ]
  },
  {
   "cell_type": "code",
   "execution_count": null,
   "metadata": {},
   "outputs": [],
   "source": []
  }
 ],
 "metadata": {
  "kernelspec": {
   "display_name": "Python 3",
   "language": "python",
   "name": "python3"
  },
  "language_info": {
   "codemirror_mode": {
    "name": "ipython",
    "version": 3
   },
   "file_extension": ".py",
   "mimetype": "text/x-python",
   "name": "python",
   "nbconvert_exporter": "python",
   "pygments_lexer": "ipython3",
   "version": "3.6.5"
  }
 },
 "nbformat": 4,
 "nbformat_minor": 2
}
