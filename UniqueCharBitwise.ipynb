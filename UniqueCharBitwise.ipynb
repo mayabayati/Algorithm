{
 "cells": [
  {
   "cell_type": "code",
   "execution_count": null,
   "metadata": {},
   "outputs": [],
   "source": [
    "Determine if string has all unique character"
   ]
  },
  {
   "cell_type": "code",
   "execution_count": null,
   "metadata": {},
   "outputs": [],
   "source": [
    "# only consider lowercase character a-z, which fits in 4 bytes.\n",
    "# Time: O(n)   Space: O(1) => 4 bytes.\n",
    "\n",
    "def unique_characters_bitwise(input_string):\n",
    "    if len(input_string)>26:\n",
    "        return False\n",
    "    cbytes = 0\n",
    "    for char in input_string:\n",
    "        idx = ord(char)-ord('a')\n",
    "        if (check_bytes & (1 << idx)) > 0:\n",
    "            return False\n",
    "        check_bytes |= (1 << idx)\n",
    "    return True"
   ]
  }
 ],
 "metadata": {
  "kernelspec": {
   "display_name": "Python 3",
   "language": "python",
   "name": "python3"
  },
  "language_info": {
   "codemirror_mode": {
    "name": "ipython",
    "version": 3
   },
   "file_extension": ".py",
   "mimetype": "text/x-python",
   "name": "python",
   "nbconvert_exporter": "python",
   "pygments_lexer": "ipython3",
   "version": "3.6.5"
  }
 },
 "nbformat": 4,
 "nbformat_minor": 2
}
