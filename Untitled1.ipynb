{
 "cells": [
  {
   "cell_type": "code",
   "execution_count": 19,
   "metadata": {},
   "outputs": [],
   "source": [
    "from collections import defaultdict\n",
    "import re\n",
    "\n",
    "class Weighted_graph():\n",
    "    def __init__(self):\n",
    "        self.ed = defaultdict(list)\n",
    "        self.wi = {}   \n",
    "    def setup(self, edge1, edge2, wt):\n",
    "        self.ed[edge1].append(edge2)\n",
    "        self.ed[edge2].append(edge1)\n",
    "        self.wi[(edge1, edge2)] = wt\n"
   ]
  },
  {
   "cell_type": "code",
   "execution_count": 20,
   "metadata": {},
   "outputs": [],
   "source": [
    "wgraph = Weighted_graph()"
   ]
  },
  {
   "cell_type": "code",
   "execution_count": 21,
   "metadata": {},
   "outputs": [],
   "source": [
    "f = open(\"dict.txt\", \"r\")\n",
    "d={}\n",
    "listw = []\n",
    "\n",
    "for x in f:\n",
    "  d[x.strip()] = 0\n",
    "  listw.append(x.strip())"
   ]
  },
  {
   "cell_type": "code",
   "execution_count": 22,
   "metadata": {},
   "outputs": [
    {
     "data": {
      "text/plain": [
       "['spam', 'maps', 'map', 'amp', 'sap', 'sappy', 'tip', 'tippy', 'ramp']"
      ]
     },
     "execution_count": 22,
     "metadata": {},
     "output_type": "execute_result"
    }
   ],
   "source": [
    "listw"
   ]
  },
  {
   "cell_type": "code",
   "execution_count": 43,
   "metadata": {},
   "outputs": [
    {
     "data": {
      "text/plain": [
       "[('spam', 'maps', 4),\n",
       " ('maps', 'map', 3),\n",
       " ('maps', 'spam', 4),\n",
       " ('map', 'maps', 1),\n",
       " ('map', 'amp', 2),\n",
       " ('amp', 'ramp', 1),\n",
       " ('amp', 'map', 2),\n",
       " ('ramp', 'amp', 3)]"
      ]
     },
     "execution_count": 43,
     "metadata": {},
     "output_type": "execute_result"
    }
   ],
   "source": [
    "edl =[]\n",
    "\n",
    "for text in listw:\n",
    "    for i in range(0,len(text)+1):\n",
    "        ntext = text[:i] + '.' + text[i:]\n",
    "        rg = re.compile(ntext)\n",
    "        com = [el for el in d if re.match(rg, el)]\n",
    "\n",
    "        for j in range(len(com)): \n",
    "            #print(ntext)\n",
    "            if (len(text)+1 == len(com[j])):\n",
    "                #print(\"(\" + text + \",\" + matches[j] + \",\" + 1 + \")\")\n",
    "                edge = \"(\" + \"'\"+text + \"'\"+\",\" + \"'\"+com[j]+\"'\" + \",\" + str(1) + \")\" \n",
    "                edl.append(eval(edge))\n",
    "    \n",
    "    for i in range(0,len(text)):\n",
    "        dtext = text[:i] + text[i+1:]\n",
    "        com = [ls for ls in d if (dtext == ls)]\n",
    "        for j in range(len(com)):\n",
    "            #print(dtext)\n",
    "            #print(\"(\" + text + \",\" + matches[j] + \",\" + 3 + \")\")\n",
    "            edge = \"(\" + \"'\"+text+\"'\" + \",\" +\"'\"+ com[j]+\"'\" + \",\" + str(3) + \")\"\n",
    "            edl.append(eval(edge))     \n",
    "            \n",
    "    \n",
    "    for i in range(0,len(text)-2):\n",
    "        s = text[0:i] + text[i+1] + text[i] + text[i+2:]\n",
    "        if s in d and s!=text: \n",
    "            #print(s)\n",
    "            #print(\"(\" + text + \",\" + s + \",\" + str(2) + \")\")\n",
    "            edge = \"(\" + \"'\"+text + \"'\"+\",\"  +\"'\"+s +\"'\"+ \",\" + str(2) + \")\"\n",
    "            edl.append(eval(edge)) \n",
    "            \n",
    "    \n",
    "    textrev = text[::-1]\n",
    "    if textrev in d: \n",
    "        #print(text)\n",
    "        #print(textrev)\n",
    "        #print(\"(\" + text + \",\" + textrev + \",\" + str(len(text)) + \")\")\n",
    "        edge = \"(\" + \"'\" + text + \"'\" +\",\" +\"'\"+ textrev+\"'\" + \",\" + str(len(text)) + \")\"\n",
    "        #print(edge)\n",
    "        edl.append(eval(edge))     \n",
    "        "
   ]
  },
  {
   "cell_type": "code",
   "execution_count": 38,
   "metadata": {},
   "outputs": [],
   "source": [
    "for e in edl:\n",
    "    wgraph.setup(*e)"
   ]
  },
  {
   "cell_type": "code",
   "execution_count": 39,
   "metadata": {},
   "outputs": [
    {
     "data": {
      "text/plain": [
       "[('spam', 'maps', 4),\n",
       " ('maps', 'map', 3),\n",
       " ('maps', 'spam', 4),\n",
       " ('map', 'maps', 1),\n",
       " ('map', 'amp', 2),\n",
       " ('amp', 'ramp', 1),\n",
       " ('amp', 'map', 2),\n",
       " ('ramp', 'amp', 3)]"
      ]
     },
     "execution_count": 39,
     "metadata": {},
     "output_type": "execute_result"
    }
   ],
   "source": [
    "edges"
   ]
  },
  {
   "cell_type": "code",
   "execution_count": 44,
   "metadata": {},
   "outputs": [],
   "source": [
    "shortest_chain"
   ]
  },
  {
   "cell_type": "code",
   "execution_count": 101,
   "metadata": {},
   "outputs": [],
   "source": [
    "def wordchain_shortdist(wg, begining, finish):\n",
    "\n",
    "    cur_vertex = begining\n",
    "    \n",
    "    short_wchain = {\n",
    "        begining: (None, 0)\n",
    "    }\n",
    "    \n",
    "    vchecked = []\n",
    "    \n",
    "    #loop until getting to finish  \n",
    "    while cur_vertex != finish:\n",
    "        \n",
    "        vchecked.append(cur_vertex)\n",
    "        hamsade = wg.ed[cur_vertex]\n",
    "        lowest_hazine = short_wchain[cur_vertex][1]\n",
    "\n",
    "        for n in hamsade:\n",
    "            w = wg.wi[(cur_vertex, n)] + lowest_hazine\n",
    "            if n in short_wchain:\n",
    "                lowest_chain = short_wchain[n][1]\n",
    "                if  w < lowest_chain : short_wchain[n] = (cur_vertex, w)\n",
    "            else:\n",
    "                short_wchain[n] = (cur_vertex, w)\n",
    "        \n",
    "        hamsade_baghali ={}\n",
    "        for i in  short_wchain:\n",
    "            if i not in vchecked:\n",
    "                hamsade_baghali[i] = short_wchain[i]\n",
    "            \n",
    "        \n",
    "        if hamsade_baghali == {}: return -1\n",
    "        \n",
    "        cur_vertex = min(hamsade_baghali, key =  lambda j: hamsade_baghali[j][1])\n",
    "    \n",
    "    chain = []\n",
    "    sum = 0\n",
    "    while None != cur_vertex:\n",
    "        chain.append(cur_vertex)\n",
    "        n = short_wchain[cur_vertex][0]\n",
    "        sum += short_wchain[cur_vertex][1]\n",
    "        cur_vertex = n\n",
    "    chain = chain[::-1]\n",
    "    return sum, chain"
   ]
  },
  {
   "cell_type": "code",
   "execution_count": 102,
   "metadata": {},
   "outputs": [
    {
     "data": {
      "text/plain": [
       "(4, ['spam', 'maps'])"
      ]
     },
     "execution_count": 102,
     "metadata": {},
     "output_type": "execute_result"
    }
   ],
   "source": [
    "wordchain_shortdist(wgraph, 'spam', 'maps')"
   ]
  },
  {
   "cell_type": "code",
   "execution_count": null,
   "metadata": {},
   "outputs": [],
   "source": []
  },
  {
   "cell_type": "code",
   "execution_count": null,
   "metadata": {},
   "outputs": [],
   "source": []
  }
 ],
 "metadata": {
  "kernelspec": {
   "display_name": "Python 3",
   "language": "python",
   "name": "python3"
  },
  "language_info": {
   "codemirror_mode": {
    "name": "ipython",
    "version": 3
   },
   "file_extension": ".py",
   "mimetype": "text/x-python",
   "name": "python",
   "nbconvert_exporter": "python",
   "pygments_lexer": "ipython3",
   "version": "3.6.5"
  }
 },
 "nbformat": 4,
 "nbformat_minor": 2
}
